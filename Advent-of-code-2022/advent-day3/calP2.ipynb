{
 "cells": [
  {
   "cell_type": "code",
   "execution_count": 2,
   "metadata": {},
   "outputs": [],
   "source": [
    "from difflib import SequenceMatcher"
   ]
  },
  {
   "cell_type": "code",
   "execution_count": 3,
   "metadata": {},
   "outputs": [],
   "source": [
    "with open('input.txt') as f:\n",
    "    lines = [line.rstrip('\\n') for line in f]"
   ]
  },
  {
   "cell_type": "code",
   "execution_count": 4,
   "metadata": {},
   "outputs": [],
   "source": [
    "char_to_num = {\n",
    "    'A': 27,\n",
    "    'B': 28,\n",
    "    'C': 29,\n",
    "    'D': 30,\n",
    "    'E': 31,\n",
    "    'F': 32,\n",
    "    'G': 33,\n",
    "    'H': 34,\n",
    "    'I': 35,\n",
    "    'J': 36,\n",
    "    'K': 37,\n",
    "    'L': 38,\n",
    "    'M': 39,\n",
    "    'N': 40,\n",
    "    'O': 41,\n",
    "    'P': 42,\n",
    "    'Q': 43,\n",
    "    'R': 44,\n",
    "    'S': 45,\n",
    "    'T': 46,\n",
    "    'U': 47,\n",
    "    'V': 48,\n",
    "    'W': 49,\n",
    "    'X': 50,\n",
    "    'Y': 51,\n",
    "    'Z': 52,\n",
    "    'a': 1,\n",
    "    'b': 2,\n",
    "    'c': 3,\n",
    "    'd': 4,\n",
    "    'e': 5,\n",
    "    'f': 6,\n",
    "    'g': 7,\n",
    "    'h': 8,\n",
    "    'i': 9,\n",
    "    'j': 10,\n",
    "    'k': 11,\n",
    "    'l': 12,\n",
    "    'm': 13,\n",
    "    'n': 14,\n",
    "    'o': 15,\n",
    "    'p': 16,\n",
    "    'q': 17,\n",
    "    'r': 18,\n",
    "    's': 19,\n",
    "    't': 20,\n",
    "    'u': 21,\n",
    "    'v': 22,\n",
    "    'w': 23,\n",
    "    'x': 24,\n",
    "    'y': 25,\n",
    "    'z': 26\n",
    "}\n"
   ]
  },
  {
   "cell_type": "code",
   "execution_count": null,
   "metadata": {},
   "outputs": [],
   "source": []
  },
  {
   "cell_type": "code",
   "execution_count": 11,
   "metadata": {},
   "outputs": [],
   "source": [
    "priorities = 0\n",
    "\n",
    "for i in range(0, len(lines),3):\n",
    "    elf1 = lines[i]\n",
    "    elf2 = lines[i+1]\n",
    "    elf3 = lines[i+2]\n",
    "\n",
    "    common_chars = set(elf1).intersection(elf2).intersection(elf3)\n",
    "\n",
    "    match = list(common_chars)\n",
    "    pro = char_to_num[str(match[0])]\n",
    "    priorities += pro \n",
    "    # print(elf1, elf2, elf3)\n"
   ]
  },
  {
   "cell_type": "code",
   "execution_count": 12,
   "metadata": {},
   "outputs": [
    {
     "data": {
      "text/plain": [
       "2525"
      ]
     },
     "execution_count": 12,
     "metadata": {},
     "output_type": "execute_result"
    }
   ],
   "source": [
    "priorities"
   ]
  }
 ],
 "metadata": {
  "kernelspec": {
   "display_name": "Python 3.11.1 64-bit",
   "language": "python",
   "name": "python3"
  },
  "language_info": {
   "codemirror_mode": {
    "name": "ipython",
    "version": 3
   },
   "file_extension": ".py",
   "mimetype": "text/x-python",
   "name": "python",
   "nbconvert_exporter": "python",
   "pygments_lexer": "ipython3",
   "version": "3.11.1"
  },
  "orig_nbformat": 4,
  "vscode": {
   "interpreter": {
    "hash": "cc25f15b820a313d8d91c0677fd74df918b4770e41bbf8ba5d77efaa325c973e"
   }
  }
 },
 "nbformat": 4,
 "nbformat_minor": 2
}
