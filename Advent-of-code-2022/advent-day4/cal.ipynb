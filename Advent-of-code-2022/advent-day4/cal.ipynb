{
 "cells": [
  {
   "cell_type": "code",
   "execution_count": 69,
   "metadata": {},
   "outputs": [],
   "source": [
    "def has_overlap(e1, e2):\n",
    "  # Split e1 and e2 into low and high values\n",
    "  elf1_low, elf1_high = map(int, e1.split(\"-\"))\n",
    "  elf2_low, elf2_high = map(int, e2.split(\"-\"))\n",
    "\n",
    "  # Check if there is any overlap between the two ranges\n",
    "  if elf1_low <= elf2_high and elf2_low <= elf1_high:\n",
    "    return True\n",
    "  else:\n",
    "    return False\n"
   ]
  },
  {
   "cell_type": "code",
   "execution_count": 62,
   "metadata": {},
   "outputs": [],
   "source": [
    "def fully_contained(e1, e2):\n",
    "  contained = False\n",
    "\n",
    "  # Split e1 and e2 into low and high values\n",
    "  elf1_low, elf1_high = map(int, e1.split(\"-\"))\n",
    "  elf2_low, elf2_high = map(int, e2.split(\"-\"))\n",
    "\n",
    "  # Check if either range is fully contained within the other\n",
    "  if (elf1_low <= elf2_low and elf1_high >= elf2_high) or (elf2_low <= elf1_low and elf2_high >= elf1_high):\n",
    "    contained = True\n",
    "\n",
    "  return contained\n"
   ]
  },
  {
   "cell_type": "code",
   "execution_count": 59,
   "metadata": {},
   "outputs": [],
   "source": [
    "with open('input.csv') as f:\n",
    "    lines = [line.rstrip('\\n') for line in f]"
   ]
  },
  {
   "cell_type": "code",
   "execution_count": 63,
   "metadata": {},
   "outputs": [],
   "source": [
    "count = 0\n",
    "for e in lines:\n",
    "    e = e.split(\",\")\n",
    "    e1 = e[0]\n",
    "    e2 = e[1]\n",
    "    if fully_contained(e1, e2):\n",
    "        count += 1"
   ]
  },
  {
   "cell_type": "code",
   "execution_count": 70,
   "metadata": {},
   "outputs": [
    {
     "name": "stdout",
     "output_type": "stream",
     "text": [
      "865\n"
     ]
    }
   ],
   "source": [
    "count = 0\n",
    "for e in lines:\n",
    "    e = e.split(\",\")\n",
    "    e1 = e[0]\n",
    "    e2 = e[1]\n",
    "    if has_overlap(e1, e2):\n",
    "        count += 1\n",
    "print(count)"
   ]
  }
 ],
 "metadata": {
  "kernelspec": {
   "display_name": "Python 3.11.1 64-bit",
   "language": "python",
   "name": "python3"
  },
  "language_info": {
   "codemirror_mode": {
    "name": "ipython",
    "version": 3
   },
   "file_extension": ".py",
   "mimetype": "text/x-python",
   "name": "python",
   "nbconvert_exporter": "python",
   "pygments_lexer": "ipython3",
   "version": "3.11.1"
  },
  "orig_nbformat": 4,
  "vscode": {
   "interpreter": {
    "hash": "cc25f15b820a313d8d91c0677fd74df918b4770e41bbf8ba5d77efaa325c973e"
   }
  }
 },
 "nbformat": 4,
 "nbformat_minor": 2
}
